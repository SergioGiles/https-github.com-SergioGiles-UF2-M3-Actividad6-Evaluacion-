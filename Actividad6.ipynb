{
 "cells": [
  {
   "cell_type": "code",
   "execution_count": 1,
   "metadata": {},
   "outputs": [],
   "source": [
    "import pandas as pd\n",
    "import numpy as np "
   ]
  },
  {
   "cell_type": "code",
   "execution_count": 2,
   "metadata": {},
   "outputs": [],
   "source": [
    "def cargar_archivo(ruta_archivo):\n",
    "   \n",
    "    if ruta_archivo.endswith('.csv'):\n",
    "        return pd.read_csv(ruta_archivo)\n",
    "    elif ruta_archivo.endswith('.xlsx'):\n",
    "        return pd.read_excel(ruta_archivo)\n",
    "    else:\n",
    "        raise ValueError(f\"Este formato no está soportado para esta función: {ruta_archivo.split('.')[-1]}\")"
   ]
  },
  {
   "cell_type": "code",
   "execution_count": 4,
   "metadata": {},
   "outputs": [],
   "source": [
    "def sustituir_valores_nulos(df):\n",
    "    \n",
    "    for i, columna in enumerate(df.columns):\n",
    "        if df[columna].dtype in ['int64', 'float64']:\n",
    "            if i % 2 == 0:  # Columnas pares\n",
    "                df[columna].fillna(df[columna].mean(), inplace=True)\n",
    "            else:  # Columnas impares\n",
    "                df[columna].fillna(99, inplace=True)\n",
    "        else:\n",
    "            df[columna].fillna(\"Este_es_un_valor_nulo\", inplace=True)\n",
    "    return df"
   ]
  },
  {
   "cell_type": "code",
   "execution_count": 5,
   "metadata": {},
   "outputs": [],
   "source": [
    "def identificar_valores_nulos(df):\n",
    "    \n",
    "    nulos_por_columna = df.isnull().sum()\n",
    "    nulos_totales = df.isnull().sum().sum()\n",
    "    \n",
    "    return {\n",
    "        'nulos_por_columna': nulos_por_columna,\n",
    "        'nulos_totales': nulos_totales\n",
    "    }"
   ]
  },
  {
   "cell_type": "code",
   "execution_count": 6,
   "metadata": {},
   "outputs": [],
   "source": [
    "Pais = 'PortoPortugal_50.csv'\n",
    "df = cargar_archivo(Pais)\n"
   ]
  },
  {
   "cell_type": "code",
   "execution_count": 7,
   "metadata": {},
   "outputs": [
    {
     "name": "stderr",
     "output_type": "stream",
     "text": [
      "/var/folders/nm/538b56350957x8_x2f8xz2gc0000gn/T/ipykernel_3563/59936425.py:6: FutureWarning: A value is trying to be set on a copy of a DataFrame or Series through chained assignment using an inplace method.\n",
      "The behavior will change in pandas 3.0. This inplace method will never work because the intermediate object on which we are setting values always behaves as a copy.\n",
      "\n",
      "For example, when doing 'df[col].method(value, inplace=True)', try using 'df.method({col: value}, inplace=True)' or df[col] = df[col].method(value) instead, to perform the operation inplace on the original object.\n",
      "\n",
      "\n",
      "  df[columna].fillna(df[columna].mean(), inplace=True)\n",
      "/var/folders/nm/538b56350957x8_x2f8xz2gc0000gn/T/ipykernel_3563/59936425.py:8: FutureWarning: A value is trying to be set on a copy of a DataFrame or Series through chained assignment using an inplace method.\n",
      "The behavior will change in pandas 3.0. This inplace method will never work because the intermediate object on which we are setting values always behaves as a copy.\n",
      "\n",
      "For example, when doing 'df[col].method(value, inplace=True)', try using 'df.method({col: value}, inplace=True)' or df[col] = df[col].method(value) instead, to perform the operation inplace on the original object.\n",
      "\n",
      "\n",
      "  df[columna].fillna(99, inplace=True)\n",
      "/var/folders/nm/538b56350957x8_x2f8xz2gc0000gn/T/ipykernel_3563/59936425.py:10: FutureWarning: A value is trying to be set on a copy of a DataFrame or Series through chained assignment using an inplace method.\n",
      "The behavior will change in pandas 3.0. This inplace method will never work because the intermediate object on which we are setting values always behaves as a copy.\n",
      "\n",
      "For example, when doing 'df[col].method(value, inplace=True)', try using 'df.method({col: value}, inplace=True)' or df[col] = df[col].method(value) instead, to perform the operation inplace on the original object.\n",
      "\n",
      "\n",
      "  df[columna].fillna(\"Este_es_un_valor_nulo\", inplace=True)\n"
     ]
    }
   ],
   "source": [
    "df_sustituido = sustituir_valores_nulos(df)"
   ]
  },
  {
   "cell_type": "code",
   "execution_count": 8,
   "metadata": {},
   "outputs": [],
   "source": [
    "resultados_nulos = identificar_valores_nulos(df_sustituido)"
   ]
  },
  {
   "cell_type": "code",
   "execution_count": 9,
   "metadata": {},
   "outputs": [
    {
     "name": "stdout",
     "output_type": "stream",
     "text": [
      "Valores nulos por columna:\n",
      "Unnamed: 0                                      0\n",
      "id                                              0\n",
      "scrape_id                                       0\n",
      "last_scraped                                    0\n",
      "source                                          0\n",
      "host_id                                         0\n",
      "host_since                                      0\n",
      "host_response_time                              0\n",
      "host_response_rate                              0\n",
      "host_acceptance_rate                            0\n",
      "host_is_superhost                               0\n",
      "host_listings_count                             0\n",
      "host_has_profile_pic                            0\n",
      "host_identity_verified                          0\n",
      "neighbourhood_cleansed                          0\n",
      "latitude                                        0\n",
      "longitude                                       0\n",
      "property_type                                   0\n",
      "room_type                                       0\n",
      "accommodates                                    0\n",
      "bathrooms                                       0\n",
      "bathrooms_text                                  0\n",
      "bedrooms                                        0\n",
      "beds                                            0\n",
      "amenities                                       0\n",
      "price                                           0\n",
      "minimum_nights                                  0\n",
      "maximum_nights                                  0\n",
      "availability_30                                 0\n",
      "availability_60                                 0\n",
      "availability_90                                 0\n",
      "availability_365                                0\n",
      "number_of_reviews                               0\n",
      "number_of_reviews_ltm                           0\n",
      "number_of_reviews_l30d                          0\n",
      "first_review                                    0\n",
      "last_review                                     0\n",
      "review_scores_rating                            0\n",
      "review_scores_accuracy                          0\n",
      "review_scores_cleanliness                       0\n",
      "review_scores_checkin                           0\n",
      "review_scores_communication                     0\n",
      "review_scores_location                          0\n",
      "review_scores_value                             0\n",
      "license                                         0\n",
      "instant_bookable                                0\n",
      "calculated_host_listings_count                  0\n",
      "calculated_host_listings_count_entire_homes     0\n",
      "calculated_host_listings_count_private_rooms    0\n",
      "calculated_host_listings_count_shared_rooms     0\n",
      "reviews_per_month                               0\n",
      "dtype: int64\n",
      "\n",
      "Total de valores nulos en el DataFrame:\n",
      "0\n"
     ]
    }
   ],
   "source": [
    "print(\"Valores nulos por columna:\")\n",
    "print(resultados_nulos['nulos_por_columna'])\n",
    "print(\"\\nTotal de valores nulos en el DataFrame:\")\n",
    "print(resultados_nulos['nulos_totales'])"
   ]
  }
 ],
 "metadata": {
  "kernelspec": {
   "display_name": "Python 3",
   "language": "python",
   "name": "python3"
  },
  "language_info": {
   "codemirror_mode": {
    "name": "ipython",
    "version": 3
   },
   "file_extension": ".py",
   "mimetype": "text/x-python",
   "name": "python",
   "nbconvert_exporter": "python",
   "pygments_lexer": "ipython3",
   "version": "3.13.2"
  }
 },
 "nbformat": 4,
 "nbformat_minor": 2
}
